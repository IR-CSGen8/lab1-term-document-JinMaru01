{
 "cells": [
  {
   "cell_type": "code",
   "execution_count": 3,
   "id": "db398953",
   "metadata": {},
   "outputs": [],
   "source": [
    "import csv\n",
    "reader = csv.reader(open('tdoc.csv', 'r'))\n",
    "docs = {}\n",
    "for row in reader:\n",
    "   k, v = row\n",
    "   docs[k] = v"
   ]
  },
  {
   "cell_type": "code",
   "execution_count": 4,
   "id": "7e448b22",
   "metadata": {},
   "outputs": [
    {
     "data": {
      "text/plain": [
       "['Document 1', 'Document 2', 'Document 3']"
      ]
     },
     "execution_count": 4,
     "metadata": {},
     "output_type": "execute_result"
    }
   ],
   "source": [
    "keys = list(docs.keys())\n",
    "keys"
   ]
  },
  {
   "cell_type": "code",
   "execution_count": 5,
   "id": "37352cfb",
   "metadata": {},
   "outputs": [
    {
     "name": "stdout",
     "output_type": "stream",
     "text": [
      "['This is the first document. It contains some words.', 'The second document is a bit longer and has different words.', 'The third document is short. Short documents can be concise.']\n"
     ]
    }
   ],
   "source": [
    "cons = []\n",
    "for a in docs:\n",
    "    cons.append(docs.get(a))\n",
    "print(cons)"
   ]
  },
  {
   "cell_type": "code",
   "execution_count": 6,
   "id": "df51118a",
   "metadata": {},
   "outputs": [
    {
     "data": {
      "text/plain": [
       "{'It',\n",
       " 'Short',\n",
       " 'The',\n",
       " 'This',\n",
       " 'a',\n",
       " 'and',\n",
       " 'be',\n",
       " 'bit',\n",
       " 'can',\n",
       " 'concise.',\n",
       " 'contains',\n",
       " 'different',\n",
       " 'document',\n",
       " 'document.',\n",
       " 'documents',\n",
       " 'first',\n",
       " 'has',\n",
       " 'is',\n",
       " 'longer',\n",
       " 'second',\n",
       " 'short.',\n",
       " 'some',\n",
       " 'the',\n",
       " 'third',\n",
       " 'words.'}"
      ]
     },
     "execution_count": 6,
     "metadata": {},
     "output_type": "execute_result"
    }
   ],
   "source": [
    "unique_terms = {term for doc in cons for term in doc.split()}\n",
    "unique_terms"
   ]
  },
  {
   "cell_type": "code",
   "execution_count": 7,
   "id": "f6ee7d5f",
   "metadata": {},
   "outputs": [],
   "source": [
    "import pandas as pd\n",
    "myDocs = pd.DataFrame(list(unique_terms))\n",
    "myDocs.to_csv(\"uniqueTerm.csv\",index = False)"
   ]
  },
  {
   "cell_type": "code",
   "execution_count": 8,
   "id": "fa67ea8e",
   "metadata": {},
   "outputs": [
    {
     "data": {
      "text/plain": [
       "{'document': [1, 1, 1],\n",
       " 'Short': [0, 0, 1],\n",
       " 'first': [1, 0, 0],\n",
       " 'is': [1, 1, 1],\n",
       " 'contains': [1, 0, 0],\n",
       " 'be': [0, 0, 1],\n",
       " 'the': [1, 0, 0],\n",
       " 'can': [0, 0, 1],\n",
       " 'different': [0, 1, 0],\n",
       " 'a': [1, 1, 1],\n",
       " 'document.': [1, 0, 0],\n",
       " 'This': [1, 0, 0],\n",
       " 'concise.': [0, 0, 1],\n",
       " 'bit': [0, 1, 0],\n",
       " 'It': [1, 0, 0],\n",
       " 'third': [0, 0, 1],\n",
       " 'short.': [0, 0, 1],\n",
       " 'The': [0, 1, 1],\n",
       " 'documents': [0, 0, 1],\n",
       " 'has': [0, 1, 0],\n",
       " 'and': [0, 1, 0],\n",
       " 'words.': [1, 1, 0],\n",
       " 'longer': [0, 1, 0],\n",
       " 'some': [1, 0, 0],\n",
       " 'second': [0, 1, 0]}"
      ]
     },
     "execution_count": 8,
     "metadata": {},
     "output_type": "execute_result"
    }
   ],
   "source": [
    "# create a matrix for the document by using the unique term\n",
    "doc_term_matrix = {}\n",
    "\n",
    "# your code here\n",
    "for term in unique_terms:\n",
    "    doc_term_matrix[term] = []\n",
    "    \n",
    "    for doc in cons:\n",
    "        if term in doc:\n",
    "            doc_term_matrix[term].append(1)\n",
    "        else: doc_term_matrix[term].append(0)\n",
    "\n",
    "# display the result of the matrix\n",
    "doc_term_matrix"
   ]
  },
  {
   "cell_type": "code",
   "execution_count": 9,
   "id": "5cb59351",
   "metadata": {},
   "outputs": [
    {
     "name": "stdout",
     "output_type": "stream",
     "text": [
      "[1 0 0]\n",
      "[1 0 0]\n",
      "-------\n",
      "[1 0 0]\n",
      "['This is the first document. It contains some words.']\n",
      "Key value: {'Document 1'}\n"
     ]
    }
   ],
   "source": [
    "# import the numpy library if it doesn't work you need to install numpy\n",
    "import numpy as np\n",
    "\n",
    "docs_array = np.array(cons, dtype='object')\n",
    "\n",
    "v1 = np.array(doc_term_matrix['some'])    \n",
    "v2 = np.array(doc_term_matrix['first'])\n",
    "\n",
    "print(v1)\n",
    "print(v2)\n",
    "print('-------')\n",
    "\n",
    "# find the documents that have both terms from v1 and v2\n",
    "v3 = v1 & v2\n",
    "\n",
    "print(v3)\n",
    "\n",
    "# display the content document from the result\n",
    "search = [doc for doc in v3 * docs_array if doc]\n",
    "\n",
    "print(search)\n",
    "\n",
    "keys = set()\n",
    "\n",
    "for a,v in docs.items():\n",
    "    if v in search:\n",
    "        keys.add(a)\n",
    "print(\"Key value:\",keys)"
   ]
  },
  {
   "cell_type": "code",
   "execution_count": 10,
   "id": "6866ca44",
   "metadata": {},
   "outputs": [
    {
     "name": "stdout",
     "output_type": "stream",
     "text": [
      "[0 1 1]\n",
      "[1 0 0]\n",
      "-------\n",
      "[1 1 1]\n",
      "['This is the first document. It contains some words.', 'The second document is a bit longer and has different words.', 'The third document is short. Short documents can be concise.']\n",
      "Key value: {'Document 3', 'Document 2', 'Document 1'}\n"
     ]
    }
   ],
   "source": [
    "# import the numpy library if it doesn't work you need to install numpy\n",
    "import numpy as np\n",
    "\n",
    "docs_array = np.array(cons, dtype='object')\n",
    "\n",
    "v1 = np.array(doc_term_matrix['The'])    \n",
    "v2 = np.array(doc_term_matrix['It'])\n",
    "\n",
    "print(v1)\n",
    "print(v2)\n",
    "print('-------')\n",
    "\n",
    "# find the documents that have both terms from v1 and v2\n",
    "v3 = v1 | v2\n",
    "\n",
    "print(v3)\n",
    "\n",
    "# display the content document from the result\n",
    "search = [doc for doc in v3 * docs_array if doc]\n",
    "\n",
    "print(search)\n",
    "\n",
    "keys = set()\n",
    "\n",
    "for a,v in docs.items():\n",
    "    if v in search:\n",
    "        keys.add(a)\n",
    "print(\"Key value:\",keys)"
   ]
  },
  {
   "cell_type": "code",
   "execution_count": null,
   "id": "f0644b02",
   "metadata": {},
   "outputs": [],
   "source": []
  }
 ],
 "metadata": {
  "kernelspec": {
   "display_name": "Python 3 (ipykernel)",
   "language": "python",
   "name": "python3"
  },
  "language_info": {
   "codemirror_mode": {
    "name": "ipython",
    "version": 3
   },
   "file_extension": ".py",
   "mimetype": "text/x-python",
   "name": "python",
   "nbconvert_exporter": "python",
   "pygments_lexer": "ipython3",
   "version": "3.11.4"
  }
 },
 "nbformat": 4,
 "nbformat_minor": 5
}
